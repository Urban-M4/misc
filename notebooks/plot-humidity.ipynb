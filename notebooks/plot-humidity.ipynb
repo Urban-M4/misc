{
 "cells": [
  {
   "cell_type": "code",
   "execution_count": 65,
   "metadata": {},
   "outputs": [],
   "source": [
    "import cmocean.cm as cmo\n",
    "\n",
    "from notebooks.plot_functions import (\n",
    "    plot_difference,\n",
    "    side_by_side_plot,\n",
    "    get_wrfout_var,\n",
    "    get_wrfout_uhi,\n",
    "    get_wrfout_q,\n",
    ")\n"
   ]
  },
  {
   "cell_type": "code",
   "execution_count": null,
   "metadata": {},
   "outputs": [],
   "source": [
    "# todo:\n",
    "# * windspeed needs streamlines etc.\n",
    "# * lu_index needs colormaps specification\n",
    "# * loop over multiple variables"
   ]
  },
  {
   "cell_type": "markdown",
   "metadata": {},
   "source": [
    "## Humidity\n"
   ]
  },
  {
   "cell_type": "code",
   "execution_count": 70,
   "metadata": {},
   "outputs": [],
   "source": [
    "variables = [\n",
    "    get_wrfout_q(\"./wur_lcz/wrfout_d04_2019-07-23_06:00:00.nc\", 34),\n",
    "    get_wrfout_q(\"./wur/wrfout_d04_2019-07-23_06:00:00.nc\", 34),\n",
    "]\n",
    "titles = [\n",
    "    \"CGLC-MODIS-LCZ\",\n",
    "    \"Summer in the City\",\n",
    "]\n",
    "unit = (\"Specific Humidity (g/kg)\",)\n",
    "\n",
    "fig = side_by_side_plot(variables, titles, unit, vmin=0, vmax=35, cmap=cmo.thermal)\n",
    "\n",
    "plot_difference(variables, titles, unit, vmin=-5, vmax=5, cmap=\"bwr\")"
   ]
  },
  {
   "cell_type": "markdown",
   "metadata": {},
   "source": [
    "## Temperature\n"
   ]
  },
  {
   "cell_type": "code",
   "execution_count": null,
   "metadata": {},
   "outputs": [],
   "source": [
    "variables = [\n",
    "    get_wrfout_var(\"./wur_lcz/wrfout_d04_2019-07-23_06:00:00.nc\", \"T2\", 34),\n",
    "    get_wrfout_var(\"./wur/wrfout_d04_2019-07-23_06:00:00.nc\", \"T2\", 34),\n",
    "]\n",
    "titles = [\n",
    "    \"CGLC-MODIS-LCZ\",\n",
    "    \"Summer in the City\",\n",
    "]\n",
    "unit = (\"2M Temperature (K)\",)\n",
    "\n",
    "fig = side_by_side_plot(variables, titles, unit, vmin=295, vmax=305, cmap=cmo.thermal)\n",
    "plot_difference(variables, titles, unit, vmin=-1, vmax=1, cmap=\"bwr\")"
   ]
  },
  {
   "cell_type": "code",
   "execution_count": null,
   "metadata": {},
   "outputs": [],
   "source": [
    "variables = [\n",
    "    get_wrfout_uhi(\"./wur_lcz/wrfout_d04_2019-07-23_06:00:00.nc\", 34, landuse=\"MODIS\"),\n",
    "    get_wrfout_uhi(\"./wur/wrfout_d04_2019-07-23_06:00:00.nc\", 34, landuse=\"USGS\"),\n",
    "]\n",
    "titles = [\n",
    "    \"CGLC-MODIS-LCZ\",\n",
    "    \"Summer in the City\",\n",
    "]\n",
    "unit = (\"2M Temperature as offset to rural reference\",)\n",
    "\n",
    "fig = side_by_side_plot(variables, titles, unit, vmin=-2.5, vmax=2.5, cmap=\"bwr\")"
   ]
  },
  {
   "cell_type": "markdown",
   "metadata": {},
   "source": [
    "## Wind\n"
   ]
  },
  {
   "cell_type": "markdown",
   "metadata": {},
   "source": [
    "## Land use\n"
   ]
  }
 ],
 "metadata": {
  "kernelspec": {
   "display_name": ".venv",
   "language": "python",
   "name": "python3"
  },
  "language_info": {
   "codemirror_mode": {
    "name": "ipython",
    "version": 3
   },
   "file_extension": ".py",
   "mimetype": "text/x-python",
   "name": "python",
   "nbconvert_exporter": "python",
   "pygments_lexer": "ipython3",
   "version": "3.11.3"
  }
 },
 "nbformat": 4,
 "nbformat_minor": 2
}
