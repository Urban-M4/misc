{
 "cells": [
  {
   "cell_type": "code",
   "execution_count": 65,
   "metadata": {},
   "outputs": [],
   "source": [
    "from notebooks.plot_functions import (\n",
    "    get_q_from_wrfout_file,\n",
    "    plot_difference,\n",
    "    side_by_side_plot,\n",
    ")\n",
    "\n",
    "import cmocean.cm as cmo"
   ]
  },
  {
   "cell_type": "code",
   "execution_count": null,
   "metadata": {},
   "outputs": [],
   "source": [
    "# todo:\n",
    "# * windspeed needs streamlines etc.\n",
    "# * lu_index needs colormaps specification\n",
    "# * loop over multiple variables"
   ]
  },
  {
   "cell_type": "markdown",
   "metadata": {},
   "source": [
    "## Humidity\n"
   ]
  },
  {
   "cell_type": "code",
   "execution_count": 70,
   "metadata": {},
   "outputs": [],
   "source": [
    "variables = [\n",
    "    get_q_from_wrfout_file(\"./wur_lcz/wrfout_d04_2019-07-23_06:00:00.nc\"),\n",
    "    get_q_from_wrfout_file(\"./wur/wrfout_d04_2019-07-23_06:00:00.nc\"),\n",
    "]\n",
    "titles = [\n",
    "    \"CGLC-MODIS-LCZ\",\n",
    "    \"Summer in the City\",\n",
    "]\n",
    "unit = (\"Specific Humidity (g/kg)\",)\n",
    "\n",
    "fig = side_by_side_plot(variables, titles, unit, vmin=0, vmax=35, cmap=cmo.thermal)\n",
    "\n",
    "plot_difference(variables, titles, unit, vmin=-5, vmax=5, cmap=\"bwr\")"
   ]
  },
  {
   "cell_type": "markdown",
   "metadata": {},
   "source": [
    "## Temperature\n"
   ]
  },
  {
   "cell_type": "markdown",
   "metadata": {},
   "source": [
    "## Wind\n"
   ]
  },
  {
   "cell_type": "markdown",
   "metadata": {},
   "source": [
    "## Land use\n"
   ]
  }
 ],
 "metadata": {
  "kernelspec": {
   "display_name": ".venv",
   "language": "python",
   "name": "python3"
  },
  "language_info": {
   "codemirror_mode": {
    "name": "ipython",
    "version": 3
   },
   "file_extension": ".py",
   "mimetype": "text/x-python",
   "name": "python",
   "nbconvert_exporter": "python",
   "pygments_lexer": "ipython3",
   "version": "3.11.3"
  }
 },
 "nbformat": 4,
 "nbformat_minor": 2
}
