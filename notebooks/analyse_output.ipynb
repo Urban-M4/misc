{
 "cells": [
  {
   "cell_type": "code",
   "execution_count": 65,
   "metadata": {},
   "outputs": [],
   "source": [
    "import cmocean.cm as cmo\n",
    "import matplotlib.pyplot as plt\n",
    "from matplotlib.cm import get_cmap\n",
    "from cartopy import crs as ccrs\n",
    "\n",
    "from notebooks.plot_functions import (\n",
    "    plot_difference,\n",
    "    side_by_side_plot,\n",
    "    get_wrfout_var,\n",
    "    get_wrfout_uhi,\n",
    "    get_wrfout_q,\n",
    "    get_wrfout_wspd,\n",
    "    add_subplot,\n",
    "    generate_cmap_for_landuse,\n",
    "    get_extent,\n",
    "    plot_colormesh,\n",
    ")\n"
   ]
  },
  {
   "cell_type": "code",
   "execution_count": null,
   "metadata": {},
   "outputs": [],
   "source": [
    "# todo:\n",
    "# * windspeed needs streamlines etc.\n",
    "# * lu_index needs colormaps specification\n",
    "# * loop over multiple variables"
   ]
  },
  {
   "cell_type": "markdown",
   "metadata": {},
   "source": [
    "## Humidity\n"
   ]
  },
  {
   "cell_type": "code",
   "execution_count": 70,
   "metadata": {},
   "outputs": [],
   "source": [
    "variables = [\n",
    "    get_wrfout_q(\"./wur_lcz/wrfout_d04_2019-07-23_06:00:00.nc\", 34),\n",
    "    get_wrfout_q(\"./wur/wrfout_d04_2019-07-23_06:00:00.nc\", 34),\n",
    "]\n",
    "titles = [\n",
    "    \"CGLC-MODIS-LCZ\",\n",
    "    \"Summer in the City\",\n",
    "]\n",
    "unit = \"Specific Humidity (g/kg)\"\n",
    "\n",
    "fig, axes = side_by_side_plot(\n",
    "    variables, titles, unit, vmin=0, vmax=35, cmap=cmo.thermal\n",
    ")\n",
    "\n",
    "plot_difference(variables, titles, unit, vmin=-5, vmax=5, cmap=\"bwr\")"
   ]
  },
  {
   "cell_type": "markdown",
   "metadata": {},
   "source": [
    "## Temperature\n"
   ]
  },
  {
   "cell_type": "code",
   "execution_count": null,
   "metadata": {},
   "outputs": [],
   "source": [
    "variables = [\n",
    "    get_wrfout_var(\"./wur_lcz/wrfout_d04_2019-07-23_06:00:00.nc\", \"T2\", 34),\n",
    "    get_wrfout_var(\"./wur/wrfout_d04_2019-07-23_06:00:00.nc\", \"T2\", 34),\n",
    "]\n",
    "titles = [\n",
    "    \"CGLC-MODIS-LCZ\",\n",
    "    \"Summer in the City\",\n",
    "]\n",
    "unit = \"2M Temperature (K)\"\n",
    "\n",
    "fig, axes = side_by_side_plot(\n",
    "    variables, titles, unit, vmin=295, vmax=305, cmap=cmo.thermal\n",
    ")\n",
    "plot_difference(variables, titles, unit, vmin=-1, vmax=1, cmap=\"bwr\")"
   ]
  },
  {
   "cell_type": "code",
   "execution_count": null,
   "metadata": {},
   "outputs": [],
   "source": [
    "variables = [\n",
    "    get_wrfout_uhi(\"./wur_lcz/wrfout_d04_2019-07-23_06:00:00.nc\", 34, landuse=\"MODIS\"),\n",
    "    get_wrfout_uhi(\"./wur/wrfout_d04_2019-07-23_06:00:00.nc\", 34, landuse=\"USGS\"),\n",
    "]\n",
    "titles = [\n",
    "    \"CGLC-MODIS-LCZ\",\n",
    "    \"Summer in the City\",\n",
    "]\n",
    "unit = \"2M Temperature as offset to rural reference\"\n",
    "\n",
    "fig, axes = side_by_side_plot(variables, titles, unit, vmin=-2.5, vmax=2.5, cmap=\"bwr\")"
   ]
  },
  {
   "cell_type": "markdown",
   "metadata": {},
   "source": [
    "## Wind\n"
   ]
  },
  {
   "cell_type": "code",
   "execution_count": null,
   "metadata": {},
   "outputs": [],
   "source": [
    "variables = [\n",
    "    get_wrfout_wspd(\"./wur_lcz/wrfout_d04_2019-07-23_06:00:00.nc\", 34),\n",
    "    get_wrfout_wspd(\"./wur/wrfout_d04_2019-07-23_06:00:00.nc\", 34),\n",
    "]\n",
    "titles = [\n",
    "    \"CGLC-MODIS-LCZ\",\n",
    "    \"Summer in the City\",\n",
    "]\n",
    "unit = \"10m wind speed (m/s)\"\n",
    "\n",
    "fig, axes = side_by_side_plot(\n",
    "    variables, titles, unit, vmin=2.5, vmax=5.5, cmap=get_cmap(\"cet_kbc\")\n",
    ")\n",
    "\n",
    "# add streamlines\n",
    "us = [\n",
    "    get_wrfout_var(\"./wur_lcz/wrfout_d04_2019-07-23_06:00:00.nc\", \"U10\", 34),\n",
    "    get_wrfout_var(\"./wur/wrfout_d04_2019-07-23_06:00:00.nc\", \"U10\", 34),\n",
    "]\n",
    "vs = [\n",
    "    get_wrfout_var(\"./wur_lcz/wrfout_d04_2019-07-23_06:00:00.nc\", \"V10\", 34),\n",
    "    get_wrfout_var(\"./wur/wrfout_d04_2019-07-23_06:00:00.nc\", \"V10\", 34),\n",
    "]\n",
    "for ax, u, v in zip(axes, us, vs):\n",
    "    ax.streamplot(\n",
    "        u.lon,\n",
    "        u.lat,\n",
    "        u,\n",
    "        v,\n",
    "        transform=ccrs.PlateCarree(),\n",
    "        density=[0.6, 1],\n",
    "        color=\"white\",\n",
    "        linewidth=0.8,\n",
    "    )\n",
    "\n",
    "# Plot difference\n",
    "plot_difference(variables, titles, unit, vmin=-1, vmax=1, cmap=\"bwr\")"
   ]
  },
  {
   "cell_type": "markdown",
   "metadata": {},
   "source": [
    "## Land use\n"
   ]
  },
  {
   "cell_type": "code",
   "execution_count": null,
   "metadata": {},
   "outputs": [],
   "source": [
    "variables = [\n",
    "    get_wrfout_var(\"./wur_lcz/wrfout_d04_2019-07-23_06:00:00.nc\", \"LU_INDEX\", 34),\n",
    "    get_wrfout_var(\"./wur/wrfout_d04_2019-07-23_06:00:00.nc\", \"LU_INDEX\", 34),\n",
    "]\n",
    "titles = [\n",
    "    \"CGLC-MODIS-LCZ\",\n",
    "    \"Summer in the City\",\n",
    "]\n",
    "landuse_type = [\"MODIS\", \"USGS\"]\n",
    "unit = \"Landuse index\"\n",
    "\n",
    "fig = plt.figure(figsize=(15, 5))\n",
    "\n",
    "for i, (variable, title, landuse) in enumerate(zip(variables, titles, landuse_type)):\n",
    "    ax = add_subplot(fig, 1, 2, i, title)\n",
    "    ax.set_extent(get_extent(variable))\n",
    "    cmap, norm = generate_cmap_for_landuse(landuse)\n",
    "    plot_colormesh(fig, ax, variable, unit, cmap=cmap, norm=norm)"
   ]
  }
 ],
 "metadata": {
  "kernelspec": {
   "display_name": ".venv",
   "language": "python",
   "name": "python3"
  },
  "language_info": {
   "codemirror_mode": {
    "name": "ipython",
    "version": 3
   },
   "file_extension": ".py",
   "mimetype": "text/x-python",
   "name": "python",
   "nbconvert_exporter": "python",
   "pygments_lexer": "ipython3",
   "version": "3.11.3"
  }
 },
 "nbformat": 4,
 "nbformat_minor": 2
}
